{
 "cells": [
  {
   "cell_type": "code",
   "execution_count": 2,
   "id": "d998f75e",
   "metadata": {},
   "outputs": [],
   "source": [
    "import pandas as pd"
   ]
  },
  {
   "cell_type": "code",
   "execution_count": null,
   "id": "fac16e46",
   "metadata": {},
   "outputs": [
    {
     "name": "stdout",
     "output_type": "stream",
     "text": [
      "Collecting kagglehub\n",
      "  Using cached kagglehub-0.2.9-py3-none-any.whl.metadata (21 kB)\n",
      "Requirement already satisfied: packaging in d:\\data science\\bangaluru_house_price_project\\venv\\lib\\site-packages (from kagglehub) (24.2)\n",
      "Collecting requests (from kagglehub)\n",
      "  Using cached requests-2.32.3-py3-none-any.whl.metadata (4.6 kB)\n",
      "Collecting tqdm (from kagglehub)\n",
      "  Using cached tqdm-4.67.1-py3-none-any.whl.metadata (57 kB)\n",
      "Collecting charset-normalizer<4,>=2 (from requests->kagglehub)\n",
      "  Using cached charset_normalizer-3.4.1-cp38-cp38-win_amd64.whl.metadata (36 kB)\n",
      "Collecting idna<4,>=2.5 (from requests->kagglehub)\n",
      "  Using cached idna-3.10-py3-none-any.whl.metadata (10 kB)\n",
      "Collecting urllib3<3,>=1.21.1 (from requests->kagglehub)\n",
      "  Using cached urllib3-2.2.3-py3-none-any.whl.metadata (6.5 kB)\n",
      "Collecting certifi>=2017.4.17 (from requests->kagglehub)\n",
      "  Using cached certifi-2025.1.31-py3-none-any.whl.metadata (2.5 kB)\n",
      "Requirement already satisfied: colorama in d:\\data science\\bangaluru_house_price_project\\venv\\lib\\site-packages (from tqdm->kagglehub) (0.4.6)\n",
      "Using cached kagglehub-0.2.9-py3-none-any.whl (39 kB)\n",
      "Using cached requests-2.32.3-py3-none-any.whl (64 kB)\n",
      "Using cached tqdm-4.67.1-py3-none-any.whl (78 kB)\n",
      "Using cached certifi-2025.1.31-py3-none-any.whl (166 kB)\n",
      "Using cached charset_normalizer-3.4.1-cp38-cp38-win_amd64.whl (102 kB)\n",
      "Using cached idna-3.10-py3-none-any.whl (70 kB)\n",
      "Using cached urllib3-2.2.3-py3-none-any.whl (126 kB)\n",
      "Installing collected packages: urllib3, tqdm, idna, charset-normalizer, certifi, requests, kagglehub\n",
      "Successfully installed certifi-2025.1.31 charset-normalizer-3.4.1 idna-3.10 kagglehub-0.2.9 requests-2.32.3 tqdm-4.67.1 urllib3-2.2.3\n"
     ]
    }
   ],
   "source": [
    "# !pip install kagglehub     # to download dataset it is needed to run this command"
   ]
  },
  {
   "cell_type": "code",
   "execution_count": null,
   "id": "6aa73fd5",
   "metadata": {},
   "outputs": [
    {
     "name": "stdout",
     "output_type": "stream",
     "text": [
      "Warning: Looks like you're using an outdated `kagglehub` version, please consider updating (latest version: 0.3.11)\n",
      "Downloading from https://www.kaggle.com/api/v1/datasets/download/zeeshier/t20-cricket-match-score-dataset?dataset_version_number=1...\n"
     ]
    },
    {
     "name": "stderr",
     "output_type": "stream",
     "text": [
      "100%|██████████| 16.9k/16.9k [00:00<?, ?B/s]"
     ]
    },
    {
     "name": "stdout",
     "output_type": "stream",
     "text": [
      "Extracting model files...\n",
      "Path to dataset files: C:\\Users\\khann\\.cache\\kagglehub\\datasets\\zeeshier\\t20-cricket-match-score-dataset\\versions\\1\n"
     ]
    },
    {
     "name": "stderr",
     "output_type": "stream",
     "text": [
      "\n"
     ]
    }
   ],
   "source": [
    "# import kagglehub\n",
    "\n",
    "# Download latest version\n",
    "# path = kagglehub.dataset_download(\"zeeshier/t20-cricket-match-score-dataset\")\n",
    "\n",
    "# print(\"Path to dataset files:\", path)"
   ]
  },
  {
   "cell_type": "code",
   "execution_count": 3,
   "id": "8c4c4068",
   "metadata": {},
   "outputs": [],
   "source": [
    "import numpy as np\n",
    "import pandas as pd\n",
    "import seaborn as sns\n",
    "import matplotlib.pyplot as plt\n",
    "%matplotlib inline \n",
    "import warnings\n",
    "warnings.filterwarnings('ignore')"
   ]
  },
  {
   "cell_type": "code",
   "execution_count": 4,
   "id": "b90a9779",
   "metadata": {},
   "outputs": [],
   "source": [
    "df=pd.read_csv('data/t20_cricket_match_score_prediction.csv')"
   ]
  },
  {
   "cell_type": "code",
   "execution_count": 5,
   "id": "fcf36c71",
   "metadata": {},
   "outputs": [
    {
     "data": {
      "text/html": [
       "<div>\n",
       "<style scoped>\n",
       "    .dataframe tbody tr th:only-of-type {\n",
       "        vertical-align: middle;\n",
       "    }\n",
       "\n",
       "    .dataframe tbody tr th {\n",
       "        vertical-align: top;\n",
       "    }\n",
       "\n",
       "    .dataframe thead th {\n",
       "        text-align: right;\n",
       "    }\n",
       "</style>\n",
       "<table border=\"1\" class=\"dataframe\">\n",
       "  <thead>\n",
       "    <tr style=\"text-align: right;\">\n",
       "      <th></th>\n",
       "      <th>Match ID</th>\n",
       "      <th>Overs Played</th>\n",
       "      <th>Wickets Lost</th>\n",
       "      <th>Run Rate</th>\n",
       "      <th>Home/Away</th>\n",
       "      <th>Opponent Strength</th>\n",
       "      <th>Pitch Condition</th>\n",
       "      <th>Weather</th>\n",
       "      <th>Predicted Score</th>\n",
       "    </tr>\n",
       "  </thead>\n",
       "  <tbody>\n",
       "    <tr>\n",
       "      <th>0</th>\n",
       "      <td>1</td>\n",
       "      <td>7</td>\n",
       "      <td>1</td>\n",
       "      <td>11.04</td>\n",
       "      <td>Away</td>\n",
       "      <td>3</td>\n",
       "      <td>Bowling</td>\n",
       "      <td>Sunny</td>\n",
       "      <td>82</td>\n",
       "    </tr>\n",
       "    <tr>\n",
       "      <th>1</th>\n",
       "      <td>2</td>\n",
       "      <td>20</td>\n",
       "      <td>10</td>\n",
       "      <td>11.87</td>\n",
       "      <td>Home</td>\n",
       "      <td>5</td>\n",
       "      <td>Bowling</td>\n",
       "      <td>Sunny</td>\n",
       "      <td>204</td>\n",
       "    </tr>\n",
       "    <tr>\n",
       "      <th>2</th>\n",
       "      <td>3</td>\n",
       "      <td>15</td>\n",
       "      <td>7</td>\n",
       "      <td>6.14</td>\n",
       "      <td>Home</td>\n",
       "      <td>7</td>\n",
       "      <td>Balanced</td>\n",
       "      <td>Sunny</td>\n",
       "      <td>105</td>\n",
       "    </tr>\n",
       "    <tr>\n",
       "      <th>3</th>\n",
       "      <td>4</td>\n",
       "      <td>11</td>\n",
       "      <td>8</td>\n",
       "      <td>8.84</td>\n",
       "      <td>Home</td>\n",
       "      <td>9</td>\n",
       "      <td>Batting</td>\n",
       "      <td>Cloudy</td>\n",
       "      <td>121</td>\n",
       "    </tr>\n",
       "    <tr>\n",
       "      <th>4</th>\n",
       "      <td>5</td>\n",
       "      <td>8</td>\n",
       "      <td>0</td>\n",
       "      <td>9.56</td>\n",
       "      <td>Home</td>\n",
       "      <td>2</td>\n",
       "      <td>Balanced</td>\n",
       "      <td>Sunny</td>\n",
       "      <td>104</td>\n",
       "    </tr>\n",
       "  </tbody>\n",
       "</table>\n",
       "</div>"
      ],
      "text/plain": [
       "   Match ID  Overs Played  Wickets Lost  Run Rate Home/Away  \\\n",
       "0         1             7             1     11.04      Away   \n",
       "1         2            20            10     11.87      Home   \n",
       "2         3            15             7      6.14      Home   \n",
       "3         4            11             8      8.84      Home   \n",
       "4         5             8             0      9.56      Home   \n",
       "\n",
       "   Opponent Strength Pitch Condition Weather  Predicted Score  \n",
       "0                  3         Bowling   Sunny               82  \n",
       "1                  5         Bowling   Sunny              204  \n",
       "2                  7        Balanced   Sunny              105  \n",
       "3                  9         Batting  Cloudy              121  \n",
       "4                  2        Balanced   Sunny              104  "
      ]
     },
     "execution_count": 5,
     "metadata": {},
     "output_type": "execute_result"
    }
   ],
   "source": [
    "df.head()"
   ]
  },
  {
   "cell_type": "code",
   "execution_count": 6,
   "id": "df3f9f01",
   "metadata": {},
   "outputs": [],
   "source": [
    "df.columns=df.columns.str.replace(\" \",\"_\")"
   ]
  },
  {
   "cell_type": "code",
   "execution_count": 7,
   "id": "e8db2d3e",
   "metadata": {},
   "outputs": [
    {
     "data": {
      "text/plain": [
       "Index(['Match_ID', 'Overs_Played', 'Wickets_Lost', 'Run_Rate', 'Home/Away',\n",
       "       'Opponent_Strength', 'Pitch_Condition', 'Weather', 'Predicted_Score'],\n",
       "      dtype='object')"
      ]
     },
     "execution_count": 7,
     "metadata": {},
     "output_type": "execute_result"
    }
   ],
   "source": [
    "df.columns"
   ]
  },
  {
   "cell_type": "code",
   "execution_count": 8,
   "id": "1036e367",
   "metadata": {},
   "outputs": [],
   "source": [
    "df.to_csv('t20_cricket_match_score_prediction_final.csv',index=False)"
   ]
  },
  {
   "cell_type": "code",
   "execution_count": 9,
   "id": "868350bc",
   "metadata": {},
   "outputs": [
    {
     "data": {
      "text/plain": [
       "(1500, 9)"
      ]
     },
     "execution_count": 9,
     "metadata": {},
     "output_type": "execute_result"
    }
   ],
   "source": [
    "df.shape"
   ]
  },
  {
   "cell_type": "code",
   "execution_count": 10,
   "id": "88f67b15",
   "metadata": {},
   "outputs": [
    {
     "data": {
      "text/plain": [
       "array([ 7, 20, 15, 11,  8, 19,  4,  3,  2, 12,  6,  1, 17, 10, 16,  5,  9,\n",
       "       18, 14, 13], dtype=int64)"
      ]
     },
     "execution_count": 10,
     "metadata": {},
     "output_type": "execute_result"
    }
   ],
   "source": [
    "df['Overs_Played'].unique()"
   ]
  },
  {
   "cell_type": "code",
   "execution_count": 11,
   "id": "e0b4df5a",
   "metadata": {},
   "outputs": [
    {
     "data": {
      "text/plain": [
       "array([ 1, 10,  7,  8,  0,  4,  3,  6,  2,  9,  5], dtype=int64)"
      ]
     },
     "execution_count": 11,
     "metadata": {},
     "output_type": "execute_result"
    }
   ],
   "source": [
    "df['Wickets_Lost'].unique()"
   ]
  },
  {
   "cell_type": "code",
   "execution_count": 12,
   "id": "3f29005d",
   "metadata": {},
   "outputs": [
    {
     "data": {
      "text/plain": [
       "array([11.04, 11.87,  6.14,  8.84,  9.56,  8.69,  6.21,  9.19, 12.51,\n",
       "        5.71,  5.8 ,  8.55, 14.42, 11.69, 11.79,  8.62, 10.94,  5.1 ,\n",
       "       11.36, 14.13, 11.13, 13.74, 12.24, 14.02,  5.66, 10.34,  6.42,\n",
       "        5.12,  9.22,  7.95,  9.86, 10.77,  5.44,  6.23, 10.59,  8.43,\n",
       "       12.29, 11.52, 13.46, 11.92,  9.3 , 11.73,  7.75,  8.06, 12.89,\n",
       "        9.46, 12.98, 13.22, 13.58, 14.17,  9.31,  8.19, 10.82,  8.71,\n",
       "       11.01, 12.06, 11.88,  8.75,  6.67,  6.43, 13.9 ,  8.46,  6.54,\n",
       "        5.25, 11.46, 11.37,  8.41,  5.72,  9.1 ,  8.11, 11.77, 11.06,\n",
       "        8.65,  7.18, 14.88,  9.54,  6.41,  5.28, 10.05, 14.64,  5.39,\n",
       "        5.31,  8.88,  6.6 ,  5.23, 12.56,  9.59,  7.89, 14.  ,  6.16,\n",
       "       14.56,  8.14, 13.88, 11.03, 13.27, 14.84,  7.88, 14.61,  8.89,\n",
       "        8.86,  8.4 , 10.41, 10.54, 10.42, 12.62, 13.34,  9.4 ,  8.02,\n",
       "        7.59,  6.95,  5.58,  8.42,  7.7 , 14.66, 10.58,  8.47, 10.8 ,\n",
       "        6.39,  9.44, 11.26,  9.89,  9.02, 14.94, 13.8 , 11.23, 10.69,\n",
       "       11.21,  7.01,  8.95,  9.76, 10.43,  7.28, 14.09, 12.22, 10.33,\n",
       "       13.7 ,  6.31, 12.91,  6.25, 12.94,  7.76, 13.77, 14.44,  6.49,\n",
       "        9.63, 14.81,  9.83, 13.64, 10.89,  7.86,  7.03,  8.87, 10.11,\n",
       "        9.92, 13.66,  9.08, 13.28, 12.65, 10.74,  7.  ,  6.09, 13.54,\n",
       "        9.39, 13.47, 13.93,  5.62, 13.83,  9.48, 10.1 , 11.27, 14.26,\n",
       "        5.19,  9.77, 12.23, 11.93,  6.34,  7.99,  8.59, 13.04,  7.79,\n",
       "        7.11, 14.57,  5.09, 14.98,  5.14, 12.38, 12.4 , 12.53, 12.69,\n",
       "       11.59, 12.66, 11.14,  5.89,  9.88,  5.78,  9.07,  8.49,  6.11,\n",
       "       13.08, 14.48, 14.55, 10.23,  8.  ,  5.77, 10.01, 12.95, 12.07,\n",
       "        5.5 ,  5.73,  9.03,  7.32,  7.81, 13.03, 14.29,  9.05, 14.06,\n",
       "        8.21,  7.26, 11.4 , 14.79,  8.58, 11.48, 13.89, 10.03,  9.49,\n",
       "       10.86, 11.25, 11.83,  7.42, 12.14, 13.23, 10.53, 10.2 , 12.75,\n",
       "        7.71,  9.97,  7.84, 11.3 ,  5.54, 12.49,  8.18,  5.  ,  5.47,\n",
       "        5.63, 13.39,  5.04,  7.47, 12.41,  8.16,  6.02,  8.6 , 13.43,\n",
       "        8.13, 13.92,  9.34, 14.1 ,  8.77,  9.94, 11.33, 12.04, 12.13,\n",
       "       11.66, 12.61, 14.51, 12.03,  7.98,  6.05, 12.82, 11.44,  5.48,\n",
       "       10.  ,  9.33,  9.58,  7.09,  8.7 ,  5.52, 12.68,  9.17, 13.5 ,\n",
       "        7.12, 11.57,  9.72,  7.16, 11.78, 11.08,  6.37, 12.39, 11.45,\n",
       "        6.99,  7.87,  8.68,  6.12, 10.16,  7.68, 13.35,  5.15,  8.79,\n",
       "        8.37,  6.24,  9.14,  9.93,  9.04, 10.31, 10.95,  9.64, 14.63,\n",
       "       10.19,  8.12, 12.74, 12.73, 10.21, 14.76,  6.26,  5.17, 12.7 ,\n",
       "       13.07,  6.2 ,  7.66,  5.18,  7.93, 10.18,  8.48,  8.72,  5.01,\n",
       "       14.74,  5.24, 13.99, 12.83, 12.8 ,  8.98,  8.03,  9.84, 12.47,\n",
       "        9.74, 14.58, 14.43, 12.85, 14.91, 10.44,  5.76,  8.66,  7.25,\n",
       "        6.96, 11.22, 12.81, 10.78,  6.47, 13.11, 11.74,  7.6 ,  8.45,\n",
       "        7.91,  9.7 , 12.08,  5.08, 11.31, 10.3 , 11.8 ,  9.6 , 10.47,\n",
       "        6.66, 13.44, 12.93,  6.97, 14.95, 12.12, 10.7 ,  9.37,  6.9 ,\n",
       "       14.08, 14.6 , 14.77, 12.57,  6.62, 12.18, 11.41, 11.67,  6.63,\n",
       "       10.65, 12.72,  9.99,  8.57,  7.29, 11.34,  7.22,  8.22, 13.48,\n",
       "        5.95,  9.29,  5.29,  9.81, 11.62,  6.19, 14.2 , 14.93,  5.45,\n",
       "        8.92, 12.54, 14.18, 12.88,  7.51, 10.64,  7.4 ,  6.92, 10.06,\n",
       "        7.21,  5.36,  6.75, 13.67,  7.82, 14.5 , 10.17, 12.59,  8.53,\n",
       "       13.94, 14.46,  9.98,  7.05, 10.91,  6.86,  8.32, 13.55,  7.07,\n",
       "        5.69, 14.41, 10.07,  9.09, 13.36, 11.94, 12.71, 11.55,  6.52,\n",
       "       13.76, 10.39,  9.25,  5.38,  6.28,  5.55, 14.73,  8.04,  7.3 ,\n",
       "       14.67,  7.24, 11.63, 12.42,  9.23,  8.25, 13.17,  6.82, 14.85,\n",
       "        8.93, 11.61, 12.09, 10.84, 14.52,  5.42,  7.65, 11.02,  7.97,\n",
       "        6.03, 10.14, 10.09, 14.33, 11.97,  9.62, 14.21, 11.95, 13.62,\n",
       "        7.74,  8.36, 13.57, 12.01, 12.27, 10.62, 14.47,  9.96,  8.81,\n",
       "       12.86, 12.34,  5.11, 14.7 ,  9.38,  7.35, 12.05, 10.46, 13.63,\n",
       "        6.79, 13.  ,  8.97,  6.32, 13.65,  6.57,  8.1 ,  7.9 , 13.71,\n",
       "       12.97,  7.5 , 10.72, 13.33, 10.49,  8.07,  8.34, 12.33,  5.68,\n",
       "       12.84, 11.85,  5.57,  8.74, 11.42, 11.71, 11.32,  9.18,  6.01,\n",
       "        7.78,  9.32, 14.8 , 14.71,  6.13,  7.64,  7.69, 14.69,  5.92,\n",
       "       10.99, 11.24, 11.49,  7.67, 14.65, 11.76, 11.1 , 10.98,  6.06,\n",
       "        6.55, 14.45, 12.37, 10.88, 10.83,  7.53,  9.5 ,  8.99, 13.4 ,\n",
       "        6.89, 11.72,  5.93, 12.48, 14.15, 11.38,  5.91,  7.48,  7.14,\n",
       "       11.07,  5.81, 13.38, 13.05, 11.17, 12.43, 10.38, 13.95, 12.87,\n",
       "        9.28,  9.43, 14.36,  5.64, 13.25,  7.92,  5.22,  8.01,  5.56,\n",
       "        9.91, 14.27, 12.64,  6.59,  5.7 , 11.64, 13.82, 13.14,  6.1 ,\n",
       "       10.15, 10.36,  8.54, 13.29,  8.08, 14.14, 14.53,  8.27,  6.94,\n",
       "       13.59, 11.11,  6.18,  6.65,  5.02, 12.19, 12.32,  6.61,  5.84,\n",
       "       13.91,  7.45,  8.91,  7.34,  7.2 , 11.16, 10.57,  9.16, 11.96,\n",
       "       12.02,  6.72,  9.12,  6.15,  6.17,  7.06, 13.96,  7.04, 10.08,\n",
       "       10.61, 11.28, 11.89, 13.21,  9.85, 12.92,  9.51,  6.83,  9.66,\n",
       "        5.67, 14.68,  5.74, 14.97,  8.51,  8.73,  5.05, 10.48, 12.67,\n",
       "       12.52,  6.4 , 11.2 ,  6.7 , 12.5 , 10.97, 11.54, 10.79,  6.56,\n",
       "       12.16,  7.02,  7.15,  6.88,  8.83, 11.6 , 12.96,  7.72, 14.39,\n",
       "        6.91,  7.19, 13.15, 12.78,  5.88, 11.99,  5.34, 13.79,  7.43,\n",
       "        8.23, 13.98, 14.01, 14.96, 13.45,  7.49, 14.99,  7.41,  5.4 ,\n",
       "        9.11,  6.3 , 10.66, 13.37, 10.63, 10.87, 10.81,  9.42, 14.28,\n",
       "       10.28, 11.5 , 12.15, 10.93,  5.53,  9.55, 11.75, 11.91, 11.68,\n",
       "       12.79, 12.  , 10.73,  7.77,  5.32,  5.85, 13.81, 13.86,  5.3 ,\n",
       "       13.97,  9.65,  8.35, 14.75, 13.53, 14.38,  9.69,  8.26,  7.33,\n",
       "        7.56, 13.09,  5.83,  6.44,  5.82, 12.25, 12.77, 14.89,  8.61,\n",
       "       13.6 ,  8.28, 10.68,  9.9 , 10.71,  6.85, 13.26,  8.67,  5.87,\n",
       "        7.63,  5.94,  7.08,  7.38,  9.68,  9.87, 15.  ,  6.71, 11.15,\n",
       "       14.11,  5.35, 10.51,  7.37,  6.73,  8.8 , 13.01, 10.25, 13.85,\n",
       "       14.9 ,  5.79,  7.61, 14.35,  6.5 ,  9.47, 10.02,  9.71, 14.04,\n",
       "        5.07, 13.31, 12.35, 10.96,  6.64,  8.44, 14.32, 10.67,  9.  ,\n",
       "        6.04, 10.32,  7.96, 13.19,  7.27, 13.24,  8.63, 13.06,  9.67,\n",
       "        9.82, 13.41])"
      ]
     },
     "execution_count": 12,
     "metadata": {},
     "output_type": "execute_result"
    }
   ],
   "source": [
    "df['Run_Rate'].unique()"
   ]
  },
  {
   "cell_type": "code",
   "execution_count": 13,
   "id": "26dccc2a",
   "metadata": {},
   "outputs": [
    {
     "data": {
      "text/plain": [
       "array(['Away', 'Home'], dtype=object)"
      ]
     },
     "execution_count": 13,
     "metadata": {},
     "output_type": "execute_result"
    }
   ],
   "source": [
    "df['Home/Away'].unique()"
   ]
  },
  {
   "cell_type": "code",
   "execution_count": 14,
   "id": "dbc33b29",
   "metadata": {},
   "outputs": [
    {
     "data": {
      "text/plain": [
       "array([ 3,  5,  7,  9,  2,  4,  1, 10,  6,  8], dtype=int64)"
      ]
     },
     "execution_count": 14,
     "metadata": {},
     "output_type": "execute_result"
    }
   ],
   "source": [
    "df['Opponent_Strength'].unique()"
   ]
  },
  {
   "cell_type": "code",
   "execution_count": 15,
   "id": "abd06976",
   "metadata": {},
   "outputs": [
    {
     "name": "stdout",
     "output_type": "stream",
     "text": [
      "<class 'pandas.core.frame.DataFrame'>\n",
      "RangeIndex: 1500 entries, 0 to 1499\n",
      "Data columns (total 9 columns):\n",
      " #   Column             Non-Null Count  Dtype  \n",
      "---  ------             --------------  -----  \n",
      " 0   Match_ID           1500 non-null   int64  \n",
      " 1   Overs_Played       1500 non-null   int64  \n",
      " 2   Wickets_Lost       1500 non-null   int64  \n",
      " 3   Run_Rate           1500 non-null   float64\n",
      " 4   Home/Away          1500 non-null   object \n",
      " 5   Opponent_Strength  1500 non-null   int64  \n",
      " 6   Pitch_Condition    1500 non-null   object \n",
      " 7   Weather            1500 non-null   object \n",
      " 8   Predicted_Score    1500 non-null   int64  \n",
      "dtypes: float64(1), int64(5), object(3)\n",
      "memory usage: 105.6+ KB\n"
     ]
    }
   ],
   "source": [
    "df.info()"
   ]
  },
  {
   "cell_type": "code",
   "execution_count": 16,
   "id": "9c9ecfce",
   "metadata": {},
   "outputs": [
    {
     "data": {
      "text/plain": [
       "array(['Bowling', 'Balanced', 'Batting'], dtype=object)"
      ]
     },
     "execution_count": 16,
     "metadata": {},
     "output_type": "execute_result"
    }
   ],
   "source": [
    "df['Pitch_Condition'].unique()"
   ]
  },
  {
   "cell_type": "code",
   "execution_count": 17,
   "id": "1a76938b",
   "metadata": {},
   "outputs": [
    {
     "data": {
      "text/plain": [
       "array(['Sunny', 'Cloudy', 'Overcast'], dtype=object)"
      ]
     },
     "execution_count": 17,
     "metadata": {},
     "output_type": "execute_result"
    }
   ],
   "source": [
    "df['Weather'].unique()"
   ]
  },
  {
   "cell_type": "code",
   "execution_count": 18,
   "id": "8f2eb856",
   "metadata": {},
   "outputs": [
    {
     "data": {
      "text/plain": [
       "array([ 82, 204, 105, 121, 104,  55, 125,  92, 159,  31,  44,  37,  48,\n",
       "       133,  80,  43,  18,  85, 158, 218, 115, 212, 209, 132, 232,  65,\n",
       "       172,  34,  45, 207,  73,  69, 106, 130,  42, 131, 182, 340, 234,\n",
       "        72,  38, 279,  70, 301, 108,  39,  36,  93,  91,  61, 190, 150,\n",
       "        35,  60, 201, 164,  54,  74, 193,  88, 140, 188,  83, 138, 179,\n",
       "       134,  66,  76, 281,  67,  21,  20,  32,  58, 128, 151, 152,  23,\n",
       "        28,  64,  46,  52, 107, 169,  50,  15, 102, 114,  96, 119,  81,\n",
       "        75, 141, 112, 194,  71, 167, 117, 222, 174,  77, 168,  27, 101,\n",
       "        79, 356,  29, 110, 220,  24, 248,  78, 186, 149, 233, 236, 254,\n",
       "       250,  25,  22,  14, 285, 176,  56,  98, 211,  49, 272,  59,  86,\n",
       "        87, 181, 278, 309, 227,  84, 288,  57, 241,  53,  33, 185,  12,\n",
       "       200, 165,  51,  97, 192,  16, 217, 214, 142, 267, 144,  41, 229,\n",
       "       197, 154, 100,  90,  26, 126, 202, 178, 170, 146,  68,  30, 252,\n",
       "        62, 175, 230, 171, 137,  19, 111, 205, 173, 161, 180, 156, 203,\n",
       "       109, 269, 148, 157, 118, 210, 304, 120,  17, 196, 143, 189,  47,\n",
       "       326, 258, 195, 264, 300, 113, 160, 136, 259,  40, 123, 155,  63,\n",
       "       225, 302, 294, 199,  89, 139, 127, 257, 183, 153, 338, 286,  94,\n",
       "       145,  99, 245, 187, 103, 124, 184, 228, 346, 363, 129, 262, 122,\n",
       "       216, 290, 312, 135, 282, 226, 298,  10, 235, 249, 317,  95, 295,\n",
       "       260, 116, 208, 275, 166, 266, 147, 163, 198, 287, 314, 273,  11,\n",
       "       223, 247, 246, 293,   6,  13, 219, 238, 324, 162, 242, 371, 243,\n",
       "       362,   8, 177, 253, 382, 284, 237, 224, 221, 206, 335, 274, 251,\n",
       "       323, 280, 332, 215, 379, 320, 261, 231, 307, 191, 239, 303],\n",
       "      dtype=int64)"
      ]
     },
     "execution_count": 18,
     "metadata": {},
     "output_type": "execute_result"
    }
   ],
   "source": [
    "df['Predicted_Score'].unique()"
   ]
  },
  {
   "cell_type": "code",
   "execution_count": 19,
   "id": "ce5a2b16",
   "metadata": {},
   "outputs": [
    {
     "data": {
      "text/plain": [
       "382"
      ]
     },
     "execution_count": 19,
     "metadata": {},
     "output_type": "execute_result"
    }
   ],
   "source": [
    "df['Predicted_Score'].max()"
   ]
  },
  {
   "cell_type": "code",
   "execution_count": 20,
   "id": "f97eb1a4",
   "metadata": {},
   "outputs": [
    {
     "data": {
      "text/plain": [
       "Match_ID             0\n",
       "Overs_Played         0\n",
       "Wickets_Lost         0\n",
       "Run_Rate             0\n",
       "Home/Away            0\n",
       "Opponent_Strength    0\n",
       "Pitch_Condition      0\n",
       "Weather              0\n",
       "Predicted_Score      0\n",
       "dtype: int64"
      ]
     },
     "execution_count": 20,
     "metadata": {},
     "output_type": "execute_result"
    }
   ],
   "source": [
    "df.isnull().sum()"
   ]
  },
  {
   "cell_type": "code",
   "execution_count": 21,
   "id": "56850456",
   "metadata": {},
   "outputs": [
    {
     "name": "stdout",
     "output_type": "stream",
     "text": [
      "we have 6 numerical features : ['Match_ID', 'Overs_Played', 'Wickets_Lost', 'Run_Rate', 'Opponent_Strength', 'Predicted_Score']\n",
      "\n",
      "we have 3 categorical features : ['Home/Away', 'Pitch_Condition', 'Weather']\n"
     ]
    }
   ],
   "source": [
    "numeric_features= [feature for feature in df.columns if df[feature].dtype != \"object\"]\n",
    "categorical_features= [feature for feature in df.columns if df[feature].dtype == \"object\"]\n",
    "\n",
    "print('we have {} numerical features : {}'.format(len(numeric_features), numeric_features))\n",
    "print('\\nwe have {} categorical features : {}'.format(len(categorical_features), categorical_features))"
   ]
  },
  {
   "cell_type": "code",
   "execution_count": 22,
   "id": "e367a2a3",
   "metadata": {},
   "outputs": [],
   "source": [
    "# Basic Import\n",
    "import numpy as np\n",
    "import pandas as pd\n",
    "import matplotlib.pyplot as plt \n",
    "import seaborn as sns\n",
    "# Modelling\n",
    "from sklearn.metrics import mean_squared_error, r2_score\n",
    "from sklearn.neighbors import KNeighborsRegressor\n",
    "from sklearn.tree import DecisionTreeRegressor\n",
    "from sklearn.ensemble import RandomForestRegressor,AdaBoostRegressor\n",
    "from sklearn.svm import SVR\n",
    "from sklearn.linear_model import LinearRegression, Ridge,Lasso\n",
    "from sklearn.metrics import r2_score, mean_absolute_error, mean_squared_error\n",
    "from sklearn.model_selection import RandomizedSearchCV\n",
    "from catboost import CatBoostRegressor\n",
    "from xgboost import XGBRegressor\n",
    "import warnings"
   ]
  },
  {
   "cell_type": "code",
   "execution_count": 23,
   "id": "81e47577",
   "metadata": {},
   "outputs": [],
   "source": [
    "X = df.drop(columns=['Predicted_Score'],axis=1)"
   ]
  },
  {
   "cell_type": "code",
   "execution_count": 24,
   "id": "7f1d5cac",
   "metadata": {},
   "outputs": [],
   "source": [
    "y=df['Predicted_Score']"
   ]
  },
  {
   "cell_type": "code",
   "execution_count": 25,
   "id": "c368f299",
   "metadata": {},
   "outputs": [],
   "source": [
    "# Create Column Transformer with 3 types of transformers\n",
    "num_features = X.select_dtypes(exclude=\"object\").columns\n",
    "cat_features = X.select_dtypes(include=\"object\").columns\n",
    "\n",
    "from sklearn.preprocessing import OneHotEncoder, StandardScaler\n",
    "from sklearn.compose import ColumnTransformer\n",
    "\n",
    "numeric_transformer = StandardScaler()\n",
    "oh_transformer = OneHotEncoder()\n",
    "\n",
    "preprocessor = ColumnTransformer(\n",
    "    [\n",
    "        (\"OneHotEncoder\", oh_transformer, cat_features),\n",
    "         (\"StandardScaler\", numeric_transformer, num_features),        \n",
    "    ]\n",
    ")"
   ]
  },
  {
   "cell_type": "code",
   "execution_count": 26,
   "id": "2fdaed39",
   "metadata": {},
   "outputs": [],
   "source": [
    "X = preprocessor.fit_transform(X)"
   ]
  },
  {
   "cell_type": "code",
   "execution_count": 27,
   "id": "e63257da",
   "metadata": {},
   "outputs": [
    {
     "data": {
      "text/plain": [
       "((1200, 13), (300, 13))"
      ]
     },
     "execution_count": 27,
     "metadata": {},
     "output_type": "execute_result"
    }
   ],
   "source": [
    "# separate dataset into train and test\n",
    "from sklearn.model_selection import train_test_split\n",
    "X_train, X_test, y_train, y_test = train_test_split(X,y,test_size=0.2,random_state=42)\n",
    "X_train.shape, X_test.shape"
   ]
  },
  {
   "cell_type": "code",
   "execution_count": 28,
   "id": "a65a8459",
   "metadata": {},
   "outputs": [],
   "source": [
    "def evaluate_model(true, predicted):\n",
    "    mae = mean_absolute_error(true, predicted)\n",
    "    mse = mean_squared_error(true, predicted)\n",
    "    rmse = np.sqrt(mean_squared_error(true, predicted))\n",
    "    r2_square = r2_score(true, predicted)\n",
    "    return mae, rmse, r2_square"
   ]
  },
  {
   "cell_type": "code",
   "execution_count": 29,
   "id": "c19e8c53",
   "metadata": {},
   "outputs": [
    {
     "name": "stdout",
     "output_type": "stream",
     "text": [
      "Linear Regression\n",
      "Model performance for Training set\n",
      "- Root Mean Squared Error: 21.0507\n",
      "- Mean Absolute Error: 15.2960\n",
      "- R2 Score: 0.9145\n",
      "----------------------------------\n",
      "Model performance for Test set\n",
      "- Root Mean Squared Error: 21.2130\n",
      "- Mean Absolute Error: 16.0133\n",
      "- R2 Score: 0.9117\n",
      "===================================\n",
      "\n",
      "\n",
      "Lasso\n",
      "Model performance for Training set\n",
      "- Root Mean Squared Error: 21.4048\n",
      "- Mean Absolute Error: 15.4553\n",
      "- R2 Score: 0.9116\n",
      "----------------------------------\n",
      "Model performance for Test set\n",
      "- Root Mean Squared Error: 21.1769\n",
      "- Mean Absolute Error: 16.0393\n",
      "- R2 Score: 0.9120\n",
      "===================================\n",
      "\n",
      "\n",
      "Ridge\n",
      "Model performance for Training set\n",
      "- Root Mean Squared Error: 21.0087\n",
      "- Mean Absolute Error: 15.2606\n",
      "- R2 Score: 0.9148\n",
      "----------------------------------\n",
      "Model performance for Test set\n",
      "- Root Mean Squared Error: 21.0081\n",
      "- Mean Absolute Error: 15.8872\n",
      "- R2 Score: 0.9134\n",
      "===================================\n",
      "\n",
      "\n",
      "K-Neighbors Regressor\n",
      "Model performance for Training set\n",
      "- Root Mean Squared Error: 18.5415\n",
      "- Mean Absolute Error: 14.3748\n",
      "- R2 Score: 0.9336\n",
      "----------------------------------\n",
      "Model performance for Test set\n",
      "- Root Mean Squared Error: 22.5659\n",
      "- Mean Absolute Error: 17.3053\n",
      "- R2 Score: 0.9001\n",
      "===================================\n",
      "\n",
      "\n",
      "Decision Tree\n",
      "Model performance for Training set\n",
      "- Root Mean Squared Error: 0.0000\n",
      "- Mean Absolute Error: 0.0000\n",
      "- R2 Score: 1.0000\n",
      "----------------------------------\n",
      "Model performance for Test set\n",
      "- Root Mean Squared Error: 15.0425\n",
      "- Mean Absolute Error: 11.5167\n",
      "- R2 Score: 0.9556\n",
      "===================================\n",
      "\n",
      "\n",
      "Random Forest Regressor\n",
      "Model performance for Training set\n",
      "- Root Mean Squared Error: 3.7157\n",
      "- Mean Absolute Error: 2.6984\n",
      "- R2 Score: 0.9973\n",
      "----------------------------------\n",
      "Model performance for Test set\n",
      "- Root Mean Squared Error: 9.3696\n",
      "- Mean Absolute Error: 7.1165\n",
      "- R2 Score: 0.9828\n",
      "===================================\n",
      "\n",
      "\n",
      "XGBRegressor\n",
      "Model performance for Training set\n",
      "- Root Mean Squared Error: 0.4517\n",
      "- Mean Absolute Error: 0.3175\n",
      "- R2 Score: 1.0000\n",
      "----------------------------------\n",
      "Model performance for Test set\n",
      "- Root Mean Squared Error: 7.3404\n",
      "- Mean Absolute Error: 5.4102\n",
      "- R2 Score: 0.9894\n",
      "===================================\n",
      "\n",
      "\n",
      "CatBoosting Regressor\n",
      "Model performance for Training set\n",
      "- Root Mean Squared Error: 0.5399\n",
      "- Mean Absolute Error: 0.4280\n",
      "- R2 Score: 0.9999\n",
      "----------------------------------\n",
      "Model performance for Test set\n",
      "- Root Mean Squared Error: 1.8624\n",
      "- Mean Absolute Error: 1.3311\n",
      "- R2 Score: 0.9993\n",
      "===================================\n",
      "\n",
      "\n",
      "AdaBoost Regressor\n",
      "Model performance for Training set\n",
      "- Root Mean Squared Error: 18.8167\n",
      "- Mean Absolute Error: 15.6553\n",
      "- R2 Score: 0.9317\n",
      "----------------------------------\n",
      "Model performance for Test set\n",
      "- Root Mean Squared Error: 21.4771\n",
      "- Mean Absolute Error: 17.5598\n",
      "- R2 Score: 0.9095\n",
      "===================================\n",
      "\n",
      "\n"
     ]
    }
   ],
   "source": [
    "models = {\n",
    "    \"Linear Regression\": LinearRegression(),\n",
    "    \"Lasso\": Lasso(),\n",
    "    \"Ridge\": Ridge(),\n",
    "    \"K-Neighbors Regressor\": KNeighborsRegressor(),\n",
    "    \"Decision Tree\": DecisionTreeRegressor(),\n",
    "    \"Random Forest Regressor\": RandomForestRegressor(),\n",
    "    \"XGBRegressor\": XGBRegressor(), \n",
    "    \"CatBoosting Regressor\": CatBoostRegressor(verbose=False),\n",
    "    \"AdaBoost Regressor\": AdaBoostRegressor()\n",
    "}\n",
    "model_list = []\n",
    "r2_list =[]\n",
    "\n",
    "for i in range(len(list(models))):\n",
    "    model = list(models.values())[i]\n",
    "    model.fit(X_train, y_train) # Train model\n",
    "\n",
    "    # Make predictions\n",
    "    y_train_pred = model.predict(X_train)\n",
    "    y_test_pred = model.predict(X_test)\n",
    "    \n",
    "    # Evaluate Train and Test dataset\n",
    "    model_train_mae , model_train_rmse, model_train_r2 = evaluate_model(y_train, y_train_pred)\n",
    "\n",
    "    model_test_mae , model_test_rmse, model_test_r2 = evaluate_model(y_test, y_test_pred)\n",
    "\n",
    "    \n",
    "    print(list(models.keys())[i])\n",
    "    model_list.append(list(models.keys())[i])\n",
    "    \n",
    "    print('Model performance for Training set')\n",
    "    print(\"- Root Mean Squared Error: {:.4f}\".format(model_train_rmse))\n",
    "    print(\"- Mean Absolute Error: {:.4f}\".format(model_train_mae))\n",
    "    print(\"- R2 Score: {:.4f}\".format(model_train_r2))\n",
    "\n",
    "    print('----------------------------------')\n",
    "    \n",
    "    print('Model performance for Test set')\n",
    "    print(\"- Root Mean Squared Error: {:.4f}\".format(model_test_rmse))\n",
    "    print(\"- Mean Absolute Error: {:.4f}\".format(model_test_mae))\n",
    "    print(\"- R2 Score: {:.4f}\".format(model_test_r2))\n",
    "    r2_list.append(model_test_r2)\n",
    "    \n",
    "    print('='*35)\n",
    "    print('\\n')"
   ]
  },
  {
   "cell_type": "code",
   "execution_count": 30,
   "id": "53786834",
   "metadata": {},
   "outputs": [
    {
     "data": {
      "text/html": [
       "<div>\n",
       "<style scoped>\n",
       "    .dataframe tbody tr th:only-of-type {\n",
       "        vertical-align: middle;\n",
       "    }\n",
       "\n",
       "    .dataframe tbody tr th {\n",
       "        vertical-align: top;\n",
       "    }\n",
       "\n",
       "    .dataframe thead th {\n",
       "        text-align: right;\n",
       "    }\n",
       "</style>\n",
       "<table border=\"1\" class=\"dataframe\">\n",
       "  <thead>\n",
       "    <tr style=\"text-align: right;\">\n",
       "      <th></th>\n",
       "      <th>Model Name</th>\n",
       "      <th>R2_Score</th>\n",
       "    </tr>\n",
       "  </thead>\n",
       "  <tbody>\n",
       "    <tr>\n",
       "      <th>7</th>\n",
       "      <td>CatBoosting Regressor</td>\n",
       "      <td>0.999319</td>\n",
       "    </tr>\n",
       "    <tr>\n",
       "      <th>6</th>\n",
       "      <td>XGBRegressor</td>\n",
       "      <td>0.989424</td>\n",
       "    </tr>\n",
       "    <tr>\n",
       "      <th>5</th>\n",
       "      <td>Random Forest Regressor</td>\n",
       "      <td>0.982769</td>\n",
       "    </tr>\n",
       "    <tr>\n",
       "      <th>4</th>\n",
       "      <td>Decision Tree</td>\n",
       "      <td>0.955587</td>\n",
       "    </tr>\n",
       "    <tr>\n",
       "      <th>2</th>\n",
       "      <td>Ridge</td>\n",
       "      <td>0.913375</td>\n",
       "    </tr>\n",
       "    <tr>\n",
       "      <th>1</th>\n",
       "      <td>Lasso</td>\n",
       "      <td>0.911977</td>\n",
       "    </tr>\n",
       "    <tr>\n",
       "      <th>0</th>\n",
       "      <td>Linear Regression</td>\n",
       "      <td>0.911676</td>\n",
       "    </tr>\n",
       "    <tr>\n",
       "      <th>8</th>\n",
       "      <td>AdaBoost Regressor</td>\n",
       "      <td>0.909464</td>\n",
       "    </tr>\n",
       "    <tr>\n",
       "      <th>3</th>\n",
       "      <td>K-Neighbors Regressor</td>\n",
       "      <td>0.900052</td>\n",
       "    </tr>\n",
       "  </tbody>\n",
       "</table>\n",
       "</div>"
      ],
      "text/plain": [
       "                Model Name  R2_Score\n",
       "7    CatBoosting Regressor  0.999319\n",
       "6             XGBRegressor  0.989424\n",
       "5  Random Forest Regressor  0.982769\n",
       "4            Decision Tree  0.955587\n",
       "2                    Ridge  0.913375\n",
       "1                    Lasso  0.911977\n",
       "0        Linear Regression  0.911676\n",
       "8       AdaBoost Regressor  0.909464\n",
       "3    K-Neighbors Regressor  0.900052"
      ]
     },
     "execution_count": 30,
     "metadata": {},
     "output_type": "execute_result"
    }
   ],
   "source": [
    "pd.DataFrame(list(zip(model_list, r2_list)), columns=['Model Name', 'R2_Score']).sort_values(by=[\"R2_Score\"],ascending=False)"
   ]
  },
  {
   "cell_type": "code",
   "execution_count": null,
   "id": "59749b3e",
   "metadata": {},
   "outputs": [],
   "source": []
  },
  {
   "cell_type": "code",
   "execution_count": null,
   "id": "b3d05c16",
   "metadata": {},
   "outputs": [],
   "source": []
  }
 ],
 "metadata": {
  "kernelspec": {
   "display_name": "Python 3",
   "language": "python",
   "name": "python3"
  },
  "language_info": {
   "codemirror_mode": {
    "name": "ipython",
    "version": 3
   },
   "file_extension": ".py",
   "mimetype": "text/x-python",
   "name": "python",
   "nbconvert_exporter": "python",
   "pygments_lexer": "ipython3",
   "version": "3.8.0"
  }
 },
 "nbformat": 4,
 "nbformat_minor": 5
}
